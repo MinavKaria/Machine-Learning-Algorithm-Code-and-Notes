{
 "cells": [
  {
   "cell_type": "code",
   "execution_count": 220,
   "metadata": {},
   "outputs": [],
   "source": [
    "import cv2\n",
    "import csv\n",
    "import glob\n",
    "import numpy as np\n",
    "import matplotlib.pyplot as plt"
   ]
  },
  {
   "cell_type": "code",
   "execution_count": 10,
   "metadata": {},
   "outputs": [
    {
     "name": "stdout",
     "output_type": "stream",
     "text": [
      "(1000, 784)\n",
      "(1000,)\n",
      "(784,)\n",
      "[[0 0 0 ... 0 0 0]\n",
      " [0 0 0 ... 0 0 0]\n",
      " [0 0 0 ... 0 0 0]\n",
      " ...\n",
      " [0 0 0 ... 0 0 0]\n",
      " [0 0 0 ... 0 0 0]\n",
      " [0 0 0 ... 0 0 0]]\n",
      "[8 3 6 9 0 0 5 0 6 9 7 5 6 7 6 7 8 7 0 0 3 9 8 1 5 4 4 1 8 5 5 0 6 7 2 1 3\n",
      " 7 3 4 6 9 7 1 4 7 3 0 8 8 6 8 9 9 3 9 8 3 2 7 0 2 2 5 4 8 5 0 5 1 3 3 7 1\n",
      " 0 3 7 0 1 5 9 9 0 7 3 5 0 7 9 9 4 0 8 6 3 9 2 6 1 2 4 9 2 0 6 6 3 7 6 8 9\n",
      " 8 5 5 0 2 7 6 5 8 5 2 6 5 1 5 9 4 8 8 1 1 5 1 4 4 2 2 2 8 7 5 9 0 4 9 3 0\n",
      " 3 4 4 0 3 0 9 4 4 3 5 0 4 8 0 8 5 4 7 9 8 4 2 4 6 6 5 3 6 7 2 3 8 4 9 3 7\n",
      " 1 9 2 3 1 7 7 6 5 5 7 6 5 1 2 1 7 7 2 2 1 8 9 6 5 2 8 9 7 7 6 7 1 9 1 0 5\n",
      " 7 0 5 6 0 1 6 6 7 8 3 2 5 3 9 2 5 4 3 7 4 2 1 6 1 8 5 5 0 1 2 5 0 0 3 8 4\n",
      " 3 9 7 4 5 7 8 4 0 6 4 9 7 6 8 6 0 6 9 9 7 6 7 4 0 0 3 8 2 3 4 0 2 2 9 4 2\n",
      " 5 3 7 5 6 2 7 6 3 3 2 9 5 5 6 0 8 3 3 6 8 0 9 2 0 2 9 0 7 7 1 6 9 2 5 5 0\n",
      " 0 5 8 7 6 9 4 9 5 3 5 9 9 9 1 4 9 1 6 4 5 4 2 8 1 3 9 3 4 6 9 7 3 3 5 0 9\n",
      " 4 6 3 4 8 6 2 1 9 6 2 1 5 4 8 3 6 7 1 5 9 3 7 7 6 7 3 0 6 4 3 4 0 3 3 4 2\n",
      " 2 6 5 8 9 8 4 7 2 9 6 1 3 1 1 2 8 2 4 5 6 8 0 8 8 0 6 3 4 1 4 3 6 4 3 4 0\n",
      " 4 2 3 9 0 2 3 9 2 1 4 3 7 9 7 9 5 3 0 4 6 8 7 3 7 0 0 8 9 1 1 3 7 5 1 3 7\n",
      " 3 0 7 6 2 9 5 2 4 2 1 7 2 0 8 3 4 8 5 9 8 4 7 4 4 1 0 2 6 9 6 0 8 1 6 4 4\n",
      " 1 7 8 8 4 1 8 5 5 6 5 1 5 9 3 4 8 9 1 3 5 6 9 2 5 8 2 7 3 4 7 1 0 0 2 5 7\n",
      " 0 7 2 5 6 1 5 8 9 8 6 9 4 5 6 4 8 2 3 0 2 5 6 3 7 8 5 8 1 1 9 8 1 5 7 5 9\n",
      " 0 6 3 2 6 7 1 4 2 6 9 5 4 8 7 1 1 2 5 2 9 5 5 7 3 1 8 4 8 6 6 4 3 8 2 0 9\n",
      " 8 5 8 7 2 2 1 9 9 0 8 9 6 1 2 3 6 1 3 3 0 5 8 9 8 1 3 4 3 0 7 3 7 8 2 9 8\n",
      " 9 0 3 8 4 7 1 7 6 4 8 5 1 1 7 3 8 8 8 4 2 4 1 4 7 8 8 0 0 0 5 6 1 2 7 4 4\n",
      " 6 2 7 4 7 6 3 4 4 0 2 1 5 4 0 7 2 0 6 4 0 2 6 1 5 9 6 7 5 1 9 1 9 9 0 9 0\n",
      " 5 7 0 0 5 8 0 0 7 5 7 1 7 3 5 7 7 4 1 1 4 3 6 5 5 1 4 1 4 9 1 5 5 8 5 2 2\n",
      " 9 0 4 2 2 6 0 7 8 9 6 0 1 0 2 0 2 8 0 8 1 8 1 7 6 0 2 6 2 4 0 1 3 8 6 2 1\n",
      " 6 2 1 8 3 6 5 3 1 3 9 4 8 9 1 8 0 8 2 1 7 0 7 1 6 7 4 1 1 0 5 9 9 0 1 7 0\n",
      " 2 1 8 2 0 9 3 1 6 1 9 8 1 9 8 6 0 4 3 8 5 5 0 6 2 1 4 4 5 7 7 3 8 0 3 9 2\n",
      " 1 0 9 6 3 0 1 5 5 8 1 9 4 8 8 9 3 5 0 9 2 6 8 7 1 2 7 2 9 2 2 2 2 6 4 6 3\n",
      " 1 1 4 5 9 6 4 5 3 4 6 8 3 9 7 2 3 1 6 7 2 3 2 1 3 3 7 6 8 3 6 3 9 7 4 5 0\n",
      " 3 9 4 9 0 4 6 2 9 1 3 6 5 6 6 8 7 5 2 3 0 6 3 2 2 4 4 9 7 0 8 2 4 2 8 5 7\n",
      " 9]\n"
     ]
    }
   ],
   "source": [
    "data=[]\n",
    "label=[]\n",
    "\n",
    "with open('cleaned_data.csv') as f:\n",
    "    reader=csv.reader(f)\n",
    "    next(reader)\n",
    "    for row in reader:\n",
    "        if row:\n",
    "            label.append(int(row[0]))\n",
    "            data.append([int(x) for x in row[1:]])\n",
    "\n",
    "\n",
    "data = np.array(data) \n",
    "label = np.array(label)\n",
    "\n",
    "permutation = np.random.permutation(len(data))\n",
    "\n",
    "data = data[permutation]\n",
    "label = label[permutation]\n",
    "\n",
    "print(data.shape)  \n",
    "print(label.shape)  \n",
    "\n",
    "print(data[0].shape)\n",
    "print(data)\n",
    "print(label)"
   ]
  },
  {
   "cell_type": "code",
   "execution_count": 259,
   "metadata": {},
   "outputs": [
    {
     "name": "stdout",
     "output_type": "stream",
     "text": [
      "22\n"
     ]
    },
    {
     "data": {
      "image/png": "[encoded data removed]",
      "text/plain": [
       "<Figure size 640x480 with 1 Axes>"
      ]
     },
     "metadata": {},
     "output_type": "display_data"
    }
   ],
   "source": [
    "idx = np.random.randint(0, len(data))\n",
    "print(idx)\n",
    "data_reshaped = data[idx].reshape(28, 28)\n",
    "# print(data_reshaped)\n",
    "\n",
    "f,axes=plt.subplots(1,1)\n",
    "axes.imshow(data_reshaped, cmap=plt.cm.binary, interpolation='nearest')\n",
    "axes.set_title(label[idx])\n",
    "axes.axis('off')\n",
    " \n",
    "plt.show()\n"
   ]
  }
 ],
 "metadata": {
  "kernelspec": {
   "display_name": "Python 3",
   "language": "python",
   "name": "python3"
  },
  "language_info": {
   "codemirror_mode": {
    "name": "ipython",
    "version": 3
   },
   "file_extension": ".py",
   "mimetype": "text/x-python",
   "name": "python",
   "nbconvert_exporter": "python",
   "pygments_lexer": "ipython3",
   "version": "3.12.4"
  }
 },
 "nbformat": 4,
 "nbformat_minor": 2
}
