{
 "cells": [
  {
   "cell_type": "code",
   "execution_count": 3,
   "metadata": {},
   "outputs": [
    {
     "name": "stdout",
     "output_type": "stream",
     "text": [
      "[[ 0  1  2  3  4]\n",
      " [ 5  6  7  8  9]\n",
      " [10 11 12 13 14]\n",
      " [15 16 17 18 19]\n",
      " [20 21 22 23 24]\n",
      " [25 26 27 28 29]\n",
      " [30 31 32 33 34]\n",
      " [35 36 37 38 39]\n",
      " [40 41 42 43 44]\n",
      " [45 46 47 48 49]]\n",
      "[ 4  9 14 19 24]\n"
     ]
    }
   ],
   "source": [
    "import numpy as np\n",
    "\n",
    "arr = np.arange(50).reshape(10, 5)\n",
    "print(arr)\n",
    "\n",
    "# Selecting first 5 rows of the 4th column (Note: Since the array has only 5 columns, this will raise an index error)\n",
    "try:\n",
    "    a = arr[:5, 4]\n",
    "    print(a)\n",
    "except IndexError as e:\n",
    "    print(\"IndexError:\", e)\n"
   ]
  },
  {
   "cell_type": "code",
   "execution_count": 15,
   "metadata": {},
   "outputs": [
    {
     "name": "stdout",
     "output_type": "stream",
     "text": [
      "Collecting tabulate\n",
      "  Downloading tabulate-0.9.0-py3-none-any.whl.metadata (34 kB)\n",
      "Downloading tabulate-0.9.0-py3-none-any.whl (35 kB)\n",
      "Installing collected packages: tabulate\n",
      "Successfully installed tabulate-0.9.0\n",
      "Note: you may need to restart the kernel to use updated packages.\n"
     ]
    },
    {
     "name": "stderr",
     "output_type": "stream",
     "text": [
      "\n",
      "[notice] A new release of pip is available: 24.1 -> 24.1.1\n",
      "[notice] To update, run: python.exe -m pip install --upgrade pip\n"
     ]
    }
   ],
   "source": [
    "%pip install tabulate\n"
   ]
  },
  {
   "cell_type": "code",
   "execution_count": 20,
   "metadata": {},
   "outputs": [],
   "source": [
    "from tabulate import tabulate"
   ]
  },
  {
   "cell_type": "code",
   "execution_count": 30,
   "metadata": {},
   "outputs": [
    {
     "name": "stdout",
     "output_type": "stream",
     "text": [
      "[[ 0  1  2  3  4  5  6  7  8  9]\n",
      " [10 11 12 13 14 15 16 17 18 19]\n",
      " [20 21 22 23 24 25 26 27 28 29]\n",
      " [30 31 32 33 34 35 36 37 38 39]\n",
      " [40 41 42 43 44 45 46 47 48 49]\n",
      " [50 51 52 53 54 55 56 57 58 59]\n",
      " [60 61 62 63 64 65 66 67 68 69]]\n",
      "(7, 10)\n",
      "[50 51 52 53 54 55]\n",
      "+----+----+----+----+----+----+----+----+----+----+\n",
      "|  0 |  1 |  2 |  3 |  4 |  5 |  6 |  7 |  8 |  9 |\n",
      "+----+----+----+----+----+----+----+----+----+----+\n",
      "| 10 | 11 | 12 | 13 | 14 | 15 | 16 | 17 | 18 | 19 |\n",
      "+----+----+----+----+----+----+----+----+----+----+\n",
      "| 20 | 21 | 22 | 23 | 24 | 25 | 26 | 27 | 28 | 29 |\n",
      "+----+----+----+----+----+----+----+----+----+----+\n",
      "| 30 | 31 | 32 | 33 | 34 | 35 | 36 | 37 | 38 | 39 |\n",
      "+----+----+----+----+----+----+----+----+----+----+\n",
      "| 40 | 41 | 42 | 43 | 44 | 45 | 46 | 47 | 48 | 49 |\n",
      "+----+----+----+----+----+----+----+----+----+----+\n",
      "| 50 | 51 | 52 | 53 | 54 | 55 | 56 | 57 | 58 | 59 |\n",
      "+----+----+----+----+----+----+----+----+----+----+\n",
      "| 60 | 61 | 62 | 63 | 64 | 65 | 66 | 67 | 68 | 69 |\n",
      "+----+----+----+----+----+----+----+----+----+----+\n"
     ]
    }
   ],
   "source": [
    "arr = np.arange(70).reshape(7, 10)\n",
    "print(arr)\n",
    "print(arr.shape)\n",
    "a = arr[5, :6]\n",
    "print(a)\n",
    "print(tabulate(arr, tablefmt=\"grid\"))\n"
   ]
  }
 ],
 "metadata": {
  "kernelspec": {
   "display_name": "Python 3",
   "language": "python",
   "name": "python3"
  },
  "language_info": {
   "codemirror_mode": {
    "name": "ipython",
    "version": 3
   },
   "file_extension": ".py",
   "mimetype": "text/x-python",
   "name": "python",
   "nbconvert_exporter": "python",
   "pygments_lexer": "ipython3",
   "version": "3.12.4"
  }
 },
 "nbformat": 4,
 "nbformat_minor": 2
}
