{
 "cells": [
  {
   "cell_type": "markdown",
   "metadata": {},
   "source": [
    "# Title"
   ]
  },
  {
   "cell_type": "code",
   "execution_count": 3,
   "metadata": {},
   "outputs": [
    {
     "name": "stdout",
     "output_type": "stream",
     "text": [
      "Requirement already satisfied: pyscreenshot in c:\\users\\mkkar\\appdata\\local\\programs\\python\\python312\\lib\\site-packages (3.1)\n",
      "Requirement already satisfied: EasyProcess in c:\\users\\mkkar\\appdata\\local\\programs\\python\\python312\\lib\\site-packages (from pyscreenshot) (1.1)\n",
      "Requirement already satisfied: entrypoint2 in c:\\users\\mkkar\\appdata\\local\\programs\\python\\python312\\lib\\site-packages (from pyscreenshot) (1.1)\n",
      "Requirement already satisfied: mss in c:\\users\\mkkar\\appdata\\local\\programs\\python\\python312\\lib\\site-packages (from pyscreenshot) (9.0.1)\n",
      "Note: you may need to restart the kernel to use updated packages.\n"
     ]
    },
    {
     "name": "stderr",
     "output_type": "stream",
     "text": [
      "\n",
      "[notice] A new release of pip is available: 24.0 -> 24.1\n",
      "[notice] To update, run: python.exe -m pip install --upgrade pip\n"
     ]
    }
   ],
   "source": [
    "%pip install pyscreenshot\n"
   ]
  },
  {
   "cell_type": "code",
   "execution_count": 3,
   "metadata": {},
   "outputs": [],
   "source": [
    "import pyscreenshot as ImageGrab\n",
    "import time"
   ]
  },
  {
   "cell_type": "code",
   "execution_count": 9,
   "metadata": {},
   "outputs": [
    {
     "name": "stdout",
     "output_type": "stream",
     "text": [
      "saved image 0\n",
      "Clear the screen and press 1 or 0 to exit\n",
      "saved image 1\n",
      "Clear the screen and press 1 or 0 to exit\n",
      "saved image 2\n",
      "Clear the screen and press 1 or 0 to exit\n",
      "saved image 3\n",
      "Clear the screen and press 1 or 0 to exit\n",
      "saved image 4\n",
      "Clear the screen and press 1 or 0 to exit\n",
      "done\n"
     ]
    }
   ],
   "source": [
    "images_folder=\"images/9/\"\n",
    "for i in range(0, 5):\n",
    "    time.sleep(2)\n",
    "    im=ImageGrab.grab(bbox=(60,170,400,550))\n",
    "    im.save(images_folder+\"/\"+str(i)+\".png\")\n",
    "    print(\"saved image \"+str(i))\n",
    "    print(\"Clear the screen and press 1 or 0 to exit\")\n",
    "    a=input()\n",
    "    time.sleep(2)\n",
    "    \n",
    "print(\"done\")\n",
    "    "
   ]
  }
 ],
 "metadata": {
  "kernelspec": {
   "display_name": "Python 3",
   "language": "python",
   "name": "python3"
  },
  "language_info": {
   "codemirror_mode": {
    "name": "ipython",
    "version": 3
   },
   "file_extension": ".py",
   "mimetype": "text/x-python",
   "name": "python",
   "nbconvert_exporter": "python",
   "pygments_lexer": "ipython3",
   "version": "3.12.4"
  }
 },
 "nbformat": 4,
 "nbformat_minor": 2
}
